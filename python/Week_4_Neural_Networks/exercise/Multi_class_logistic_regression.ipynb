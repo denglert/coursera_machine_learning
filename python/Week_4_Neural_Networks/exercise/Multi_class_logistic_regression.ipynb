{
 "cells": [
  {
   "cell_type": "markdown",
   "metadata": {},
   "source": [
    "# One-vs-all logistic regression model"
   ]
  },
  {
   "cell_type": "markdown",
   "metadata": {},
   "source": [
    "**Problem description:**\n",
    "\n",
    "Implement and train a one-vs-all multi-class classifier logistic regression model, trained to differentiate between between 20x20 images showing handwritten digits from 0 to 9."
   ]
  },
  {
   "cell_type": "markdown",
   "metadata": {},
   "source": [
    "**Note:**\n",
    "\n",
    "Ideally we would like a split of separate training, test and cross-validation samples. In contrast here we only deal with the training set, as the emphasis is on:\n",
    "- demonstrating logistic regression\n",
    "- one-vs-all multi-class classification procedure"
   ]
  },
  {
   "cell_type": "markdown",
   "metadata": {},
   "source": [
    "**Notation:**\n",
    "\n",
    "- $\\theta_{j}$: weights, $j=1,...,n$\n",
    "- $x^{(i)}_{j}$: the $j$-th feature of the $i$-th sample, $i=1,..,m$, $j=1,...,n$\n",
    "- $y^{(i)}$: $i$-th label, $i=1,..,m$\n",
    "\n",
    "\n",
    "**Vectorized form:**\n",
    "\n",
    "Design/data matrix/features:\n",
    "\n",
    "\\begin{equation}\n",
    "    X\n",
    "    =\n",
    "    \\begin{bmatrix}\n",
    "    -- (x^{(1)})^{T} -- \\\\\n",
    "    -- (x^{(2)})^{T} -- \\\\\n",
    "    ... \\\\\n",
    "    -- (x^{(m)})^{T} --\n",
    "    \\end{bmatrix}\n",
    "\\end{equation}\n",
    "\n",
    "Parameters/weights:\n",
    "\n",
    "\\begin{equation}\n",
    "    \\theta\n",
    "    =\n",
    "    \\begin{bmatrix}\n",
    "    \\theta_{1} \\\\\n",
    "    \\theta_{2} \\\\\n",
    "    ... \\\\\n",
    "    \\theta_{n}\n",
    "    \\end{bmatrix}\n",
    "\\end{equation}\n",
    "\n",
    "Labels:\n",
    "\n",
    "\\begin{equation}\n",
    "    y\n",
    "    =\n",
    "    \\begin{bmatrix}\n",
    "    y^{(1)} \\\\\n",
    "    y^{(2)} \\\\\n",
    "    ... \\\\\n",
    "    y^{(m)}\n",
    "    \\end{bmatrix}\n",
    "\\end{equation}\n",
    "\n",
    "**Dimensions:**\n",
    "- $m$: number of samples\n",
    "- $n$: number of weights"
   ]
  },
  {
   "cell_type": "markdown",
   "metadata": {},
   "source": [
    "### Model:\n",
    "\n",
    "Logistics function:\n",
    "\n",
    "\\begin{equation}\n",
    "    h_{\\theta}(x^{(i)})\n",
    "    =\n",
    "    \\sigma(\\theta^{T} x^{(i)})\n",
    "    =\n",
    "    \\frac{1}{1 + e^{- \\theta^{T} x^{(i)} }}\n",
    "\\end{equation}\n",
    "\n",
    "where $\\sigma(z)$ is the sigmoid function:\n",
    "\n",
    "\\begin{equation}\n",
    "    \\sigma(z)\n",
    "    =\n",
    "    \\frac{1}{1 + e^{-z}}\n",
    "\\end{equation}\n",
    "\n",
    "We wish to achive:\n",
    "\n",
    "\\begin{equation}\n",
    "h_{\\theta}(x^{(i)}) \\simeq y^{(i)}\n",
    "\\end{equation}"
   ]
  },
  {
   "cell_type": "markdown",
   "metadata": {},
   "source": [
    "### Cost function\n",
    "\n",
    "\\begin{equation}\n",
    "    J(\\theta)\n",
    "    =\n",
    "    \\frac{1}{m}\n",
    "    \\sum_{i=1}^{m}\n",
    "    \\left[\n",
    "        -y^{(i)} \\log( h_{\\theta}(x^{(i)}) - (1-y^{(i)}) \\log(1-h_{\\theta}(x^{(i)})\n",
    "    \\right]\n",
    "    +\n",
    "    \\frac{\\lambda}{2m}\n",
    "    \\sum_{j=1}^{n}\n",
    "    \\theta^{2}_{j}\n",
    "\\end{equation}"
   ]
  },
  {
   "cell_type": "markdown",
   "metadata": {},
   "source": [
    "### Gradient\n",
    "\n",
    "The $j=0$ component:\n",
    "\n",
    "\\begin{equation}\n",
    "    \\frac{\\partial J}{\\partial \\theta_{j}}\n",
    "    =\n",
    "    \\frac{1}{m}\n",
    "    \\sum_{i=1}^{m}\n",
    "    \\left[\n",
    "        (\n",
    "        h_{\\theta} (x^{(i)})\n",
    "        -\n",
    "        y^{(i)}\n",
    "        )\n",
    "        x^{(i)}_{j}\n",
    "    \\right]\n",
    "\\end{equation}\n",
    "\n",
    "$j \\neq 0$ components:\n",
    "\n",
    "\\begin{equation}\n",
    "    \\frac{\\partial J}{\\partial \\theta_{j}}\n",
    "    =\n",
    "    \\frac{1}{m}\n",
    "    \\sum_{i=1}^{m}\n",
    "    \\left[\n",
    "        (\n",
    "        h_{\\theta} (x^{(i)})\n",
    "        -\n",
    "        y^{(i)}\n",
    "        )\n",
    "        x^{(i)}_{j}\n",
    "    \\right]\n",
    "    +\n",
    "    \\frac{\\lambda}{m} \\theta_{j}\n",
    "\\end{equation}\n",
    "\n",
    "Vectorized form:\n",
    "\n",
    "\\begin{equation}\n",
    "    \\underline{\\theta}'\n",
    "    =\n",
    "    \\begin{bmatrix}\n",
    "        0 \\\\\n",
    "        \\theta_{1} \\\\\n",
    "        \\theta_{2} \\\\\n",
    "        ... \\\\\n",
    "        \\theta_{n}\n",
    "    \\end{bmatrix}\n",
    "\\end{equation}\n",
    "\n",
    "\\begin{equation}\n",
    "    \\nabla_{\\theta} J\n",
    "    =\n",
    "    \\frac{1}{m}\n",
    "    \\underline{\\underline{X}}^{T}\n",
    "    (\n",
    "        \\underline{h_{\\theta}}(x)\n",
    "        -\n",
    "        \\underline{y}\n",
    "    )\n",
    "    +\n",
    "    \\frac{\\lambda}{m}\n",
    "    \\underline{\\theta'}\n",
    "\\end{equation}"
   ]
  },
  {
   "cell_type": "code",
   "execution_count": 1,
   "metadata": {
    "collapsed": true
   },
   "outputs": [],
   "source": [
    "import pandas as pd\n",
    "import numpy as np\n",
    "import scipy.io\n",
    "from scipy import optimize\n",
    "import matplotlib.pyplot as plt\n",
    "import matplotlib.colors as mcolors\n",
    "%matplotlib inline"
   ]
  },
  {
   "cell_type": "markdown",
   "metadata": {},
   "source": [
    "Load in .mat datafile containing the digits"
   ]
  },
  {
   "cell_type": "code",
   "execution_count": 2,
   "metadata": {
    "collapsed": true
   },
   "outputs": [],
   "source": [
    "data = scipy.io.loadmat('ex3data1.mat')"
   ]
  },
  {
   "cell_type": "code",
   "execution_count": 3,
   "metadata": {
    "collapsed": true
   },
   "outputs": [],
   "source": [
    "features = data['X']\n",
    "labels = data['y'][:,0]\n",
    "X = np.insert(data['X'], 0, 1, axis=1)\n",
    "y = data['y'][:,0]"
   ]
  },
  {
   "cell_type": "markdown",
   "metadata": {},
   "source": [
    "Replace all 10s (denoting a 0 digit) with 0s in order to more seamlessly conform to the convention of indexing in python (0,...,K-1)"
   ]
  },
  {
   "cell_type": "code",
   "execution_count": 4,
   "metadata": {
    "collapsed": true
   },
   "outputs": [],
   "source": [
    "y[y==10] = 0"
   ]
  },
  {
   "cell_type": "markdown",
   "metadata": {},
   "source": [
    "### Examples"
   ]
  },
  {
   "cell_type": "code",
   "execution_count": 5,
   "metadata": {
    "collapsed": true
   },
   "outputs": [],
   "source": [
    "def show_digit(flat_pixels):\n",
    "    img = flat_pixels.reshape([20,20])\n",
    "    img_rot = np.rot90(img)\n",
    "    plt.imshow(img_rot, cmap='gray_r', origin='lower');"
   ]
  },
  {
   "cell_type": "code",
   "execution_count": 6,
   "metadata": {},
   "outputs": [
    {
     "name": "stdout",
     "output_type": "stream",
     "text": [
      "[2]\n"
     ]
    },
    {
     "data": {
      "image/png": "[encoded data removed]",
      "text/plain": [
       "<matplotlib.figure.Figure at 0x7f5e2e7d12b0>"
      ]
     },
     "metadata": {},
     "output_type": "display_data"
    }
   ],
   "source": [
    "pick = 1012\n",
    "show_digit(data['X'][pick]);\n",
    "print(data['y'][pick])"
   ]
  },
  {
   "cell_type": "markdown",
   "metadata": {},
   "source": [
    "Pick a couple of images at random"
   ]
  },
  {
   "cell_type": "code",
   "execution_count": 7,
   "metadata": {
    "collapsed": true
   },
   "outputs": [],
   "source": [
    "picks = np.random.choice(data['X'].shape[0], 10)"
   ]
  },
  {
   "cell_type": "code",
   "execution_count": 8,
   "metadata": {},
   "outputs": [
    {
     "data": {
      "image/png": "[encoded data removed]",
      "text/plain": [
       "<matplotlib.figure.Figure at 0x7f5e2e56b860>"
      ]
     },
     "metadata": {},
     "output_type": "display_data"
    }
   ],
   "source": [
    "f,a = plt.subplots()\n",
    "a.imshow(data['X'][picks].reshape(-1,20).T, cmap='gray_r')\n",
    "a.axis('off');"
   ]
  },
  {
   "cell_type": "markdown",
   "metadata": {},
   "source": [
    "### Function definitions"
   ]
  },
  {
   "cell_type": "code",
   "execution_count": 9,
   "metadata": {
    "collapsed": true
   },
   "outputs": [],
   "source": [
    "def sigmoid(z):\n",
    "    s = 1.0 / ( 1.0 + np.exp(-z) )\n",
    "    return s"
   ]
  },
  {
   "cell_type": "markdown",
   "metadata": {},
   "source": [
    "Hypothesis:\n",
    "\n",
    "\\begin{equation}\n",
    "    h_{\\theta}(x^{(i)})\n",
    "    =\n",
    "    \\sigma(\\theta^{T} x^{(i)})\n",
    "    =\n",
    "    \\frac{1}{1 + e^{- \\theta^{T} x^{(i)} }}\n",
    "\\end{equation}"
   ]
  },
  {
   "cell_type": "code",
   "execution_count": 10,
   "metadata": {
    "collapsed": true
   },
   "outputs": [],
   "source": [
    "def hypothesis(theta,X):\n",
    "    z = X.dot(theta)\n",
    "    h = sigmoid(z)\n",
    "    return h"
   ]
  },
  {
   "cell_type": "markdown",
   "metadata": {},
   "source": [
    "Cost function:\n",
    "\n",
    "\\begin{equation}\n",
    "    J(\\theta)\n",
    "    =\n",
    "    \\frac{1}{m}\n",
    "    \\sum_{i=1}^{m}\n",
    "    \\left[\n",
    "        -y^{(i)} \\log( h_{\\theta}(x^{(i)}) - (1-y^{(i)}) \\log(1-h_{\\theta}(x^{(i)})\n",
    "    \\right]\n",
    "    +\n",
    "    \\frac{\\lambda}{2m}\n",
    "    \\sum_{j=1}^{n}\n",
    "    \\theta^{2}_{j}\n",
    "\\end{equation}"
   ]
  },
  {
   "cell_type": "code",
   "execution_count": 11,
   "metadata": {
    "collapsed": true
   },
   "outputs": [],
   "source": [
    "def cost_function(theta, X, y, lam=0):\n",
    "    \"\"\" theta: nx1\n",
    "        X: mxn\n",
    "        theta: nx1\n",
    "        lam: 1\n",
    "    \"\"\"\n",
    "    m = len(X)\n",
    "    h = hypothesis(theta, X)\n",
    "    cost_vector = -y * np.log(h) - (1.0-y)*np.log(1.0 - h)\n",
    "    regularization_term = np.sum(theta**2) * lam/(2.0*m)\n",
    "    cost = np.sum(cost_vector)/m + regularization_term\n",
    "    return cost"
   ]
  },
  {
   "cell_type": "markdown",
   "metadata": {},
   "source": [
    "The $j=0$ component:\n",
    "\n",
    "\\begin{equation}\n",
    "    \\frac{\\partial J}{\\partial \\theta_{j}}\n",
    "    =\n",
    "    \\frac{1}{m}\n",
    "    \\sum_{i=1}^{m}\n",
    "    \\left[\n",
    "        (\n",
    "        h_{\\theta} (x^{(i)})\n",
    "        -\n",
    "        y^{(i)}\n",
    "        )\n",
    "        x^{(i)}_{j}\n",
    "    \\right]\n",
    "\\end{equation}\n",
    "\n",
    "$j \\neq 0$ components:\n",
    "\n",
    "\\begin{equation}\n",
    "    \\frac{\\partial J}{\\partial \\theta_{j}}\n",
    "    =\n",
    "    \\frac{1}{m}\n",
    "    \\sum_{i=1}^{m}\n",
    "    \\left[\n",
    "        (\n",
    "        h_{\\theta} (x^{(i)})\n",
    "        -\n",
    "        y^{(i)}\n",
    "        )\n",
    "        x^{(i)}_{j}\n",
    "    \\right]\n",
    "    +\n",
    "    \\frac{\\lambda}{m} \\theta_{j}\n",
    "\\end{equation}"
   ]
  },
  {
   "cell_type": "code",
   "execution_count": 12,
   "metadata": {
    "collapsed": true
   },
   "outputs": [],
   "source": [
    "def gradient(theta, X, y, lam=0):\n",
    "    \"\"\"- X: mxn\n",
    "       - y: mx1\n",
    "       - theta: nx1\n",
    "       - lam: 1\"\"\"\n",
    "    m = len(X)\n",
    "    h = hypothesis(theta,X)\n",
    "    thetap = theta\n",
    "    thetap[0] = 0\n",
    "    gradient = (X.transpose().dot(h-y) + lam*thetap)/m\n",
    "    return gradient"
   ]
  },
  {
   "cell_type": "code",
   "execution_count": 13,
   "metadata": {
    "collapsed": true
   },
   "outputs": [],
   "source": [
    "def accuracy(yreal, ypred):\n",
    "    return np.mean(yreal==ypred)"
   ]
  },
  {
   "cell_type": "markdown",
   "metadata": {},
   "source": [
    "## Single class logistic regression"
   ]
  },
  {
   "cell_type": "markdown",
   "metadata": {},
   "source": [
    "Train on a single, specific digit"
   ]
  },
  {
   "cell_type": "code",
   "execution_count": 14,
   "metadata": {
    "collapsed": true
   },
   "outputs": [],
   "source": [
    "digit = 2"
   ]
  },
  {
   "cell_type": "markdown",
   "metadata": {},
   "source": [
    "Create target vector"
   ]
  },
  {
   "cell_type": "code",
   "execution_count": 15,
   "metadata": {
    "collapsed": true
   },
   "outputs": [],
   "source": [
    "y_single = (y == digit).astype(int)"
   ]
  },
  {
   "cell_type": "code",
   "execution_count": 16,
   "metadata": {
    "collapsed": true
   },
   "outputs": [],
   "source": [
    "index = np.where(y == 1)[0][100]"
   ]
  },
  {
   "cell_type": "code",
   "execution_count": 17,
   "metadata": {},
   "outputs": [
    {
     "data": {
      "text/plain": [
       "600"
      ]
     },
     "execution_count": 17,
     "metadata": {},
     "output_type": "execute_result"
    }
   ],
   "source": [
    "index"
   ]
  },
  {
   "cell_type": "code",
   "execution_count": 18,
   "metadata": {},
   "outputs": [
    {
     "data": {
      "image/png": "[encoded data removed]",
      "text/plain": [
       "<matplotlib.figure.Figure at 0x7f5e2e4b4780>"
      ]
     },
     "metadata": {},
     "output_type": "display_data"
    }
   ],
   "source": [
    "show_digit(data['X'][index]);"
   ]
  },
  {
   "cell_type": "code",
   "execution_count": 19,
   "metadata": {
    "collapsed": true
   },
   "outputs": [],
   "source": [
    "theta0 = np.random.uniform(high=0.1, size=401)"
   ]
  },
  {
   "cell_type": "code",
   "execution_count": 20,
   "metadata": {},
   "outputs": [
    {
     "data": {
      "text/plain": [
       "2.4461421556308922"
      ]
     },
     "execution_count": 20,
     "metadata": {},
     "output_type": "execute_result"
    }
   ],
   "source": [
    "cost_function(theta0, X, y_single)"
   ]
  },
  {
   "cell_type": "code",
   "execution_count": 21,
   "metadata": {},
   "outputs": [
    {
     "data": {
      "text/plain": [
       "array([  8.16935448e-01,   0.00000000e+00,   0.00000000e+00,\n",
       "         1.29741079e-07,  -1.67437908e-06,  -2.59847851e-06,\n",
       "         1.15809090e-04,   1.35362088e-04,   6.75326758e-05,\n",
       "         1.39840208e-05,   4.05892201e-05,   1.35114551e-05,\n",
       "        -1.01677849e-05,  -2.21261713e-05,  -3.75508323e-05,\n",
       "        -5.26064013e-05,  -3.96729376e-05,  -1.36540933e-05,\n",
       "        -8.88905083e-08,   1.41740283e-07,   0.00000000e+00,\n",
       "         4.71778793e-08,  -3.85012632e-07,  -1.58411791e-06,\n",
       "        -4.35916835e-06,  -2.69926411e-05,   1.14460610e-04,\n",
       "         5.50071109e-04,   8.18325789e-04,   6.45310170e-04,\n",
       "         2.35387325e-04,  -8.97745503e-05,  -1.60518744e-04,\n",
       "        -9.75275636e-05,  -4.57962032e-05,   8.10228493e-05,\n",
       "         9.05502012e-05,   8.32946157e-07,  -4.58740880e-05,\n",
       "        -7.71336100e-06,  -1.55959656e-06,  -4.04287517e-07,\n",
       "         3.61816387e-06,  -1.57471350e-05,   1.76985313e-04,\n",
       "         8.57321925e-04,   2.34402950e-03,   4.10307807e-03,\n",
       "         4.94949170e-03,   3.70215936e-03,   1.68848980e-03,\n",
       "         9.84495522e-04,   7.72011848e-04,   1.66467936e-03,\n",
       "         4.29140890e-03,   5.80192871e-03,   3.91191562e-03,\n",
       "         1.51272888e-03,   4.42864380e-04,  -1.58424448e-05,\n",
       "         4.85637430e-06,  -1.71838100e-06,   4.32602016e-06,\n",
       "         5.69118801e-05,   1.21173202e-03,   4.13612467e-03,\n",
       "         1.07161761e-02,   1.69628905e-02,   1.97313803e-02,\n",
       "         1.94687061e-02,   1.98943566e-02,   2.40932875e-02,\n",
       "         2.85081264e-02,   3.32987226e-02,   3.86841400e-02,\n",
       "         3.99412642e-02,   2.88660395e-02,   1.30252527e-02,\n",
       "         3.60810858e-03,   6.45875769e-04,   1.31687403e-04,\n",
       "        -2.15340188e-06,  -2.09556966e-05,   2.06416644e-04,\n",
       "         3.25888881e-03,   1.25975903e-02,   2.79839260e-02,\n",
       "         4.50149811e-02,   5.61556693e-02,   6.51822629e-02,\n",
       "         7.95093313e-02,   9.43863897e-02,   9.82241547e-02,\n",
       "         9.38905903e-02,   1.00553616e-01,   1.09353730e-01,\n",
       "         9.10582800e-02,   4.82528121e-02,   1.41091294e-02,\n",
       "         3.84381901e-03,   8.47452058e-04,   3.13929162e-05,\n",
       "         7.48779233e-05,   3.77900712e-04,   8.87291336e-03,\n",
       "         3.24681569e-02,   6.98328899e-02,   1.10405103e-01,\n",
       "         1.39847807e-01,   1.67071628e-01,   1.95278451e-01,\n",
       "         2.02155868e-01,   1.82129882e-01,   1.58712567e-01,\n",
       "         1.58313665e-01,   1.81415488e-01,   1.82628389e-01,\n",
       "         1.23235399e-01,   4.53230213e-02,   1.34138975e-02,\n",
       "         2.36429208e-03,   6.65708271e-05,   4.25497012e-04,\n",
       "         1.48166060e-03,   1.89326893e-02,   6.81243844e-02,\n",
       "         1.43248245e-01,   2.09157053e-01,   2.57082881e-01,\n",
       "         2.89365784e-01,   3.07483141e-01,   2.91854076e-01,\n",
       "         2.47293365e-01,   2.01254482e-01,   1.88728167e-01,\n",
       "         2.23794551e-01,   2.62810893e-01,   2.21710040e-01,\n",
       "         9.52753289e-02,   2.53785098e-02,   3.61842298e-03,\n",
       "         1.04177710e-05,   7.55516075e-04,   4.35064593e-03,\n",
       "         4.24722947e-02,   1.30870835e-01,   2.41538203e-01,\n",
       "         3.23078802e-01,   3.59264014e-01,   3.58242431e-01,\n",
       "         3.47332414e-01,   3.20031245e-01,   2.75615285e-01,\n",
       "         2.24218542e-01,   2.10925528e-01,   2.56712792e-01,\n",
       "         3.33360611e-01,   3.19289458e-01,   1.48639375e-01,\n",
       "         3.43425150e-02,   4.70158770e-03,   1.46582322e-06,\n",
       "         6.39423460e-04,   9.06461657e-03,   7.90382372e-02,\n",
       "         2.07435093e-01,   3.35035081e-01,   3.93800061e-01,\n",
       "         3.64857216e-01,   3.22068333e-01,   3.15083637e-01,\n",
       "         3.21726505e-01,   3.02229104e-01,   2.44971645e-01,\n",
       "         2.25362288e-01,   2.91505148e-01,   3.91045880e-01,\n",
       "         3.76645909e-01,   1.74931305e-01,   3.43012332e-02,\n",
       "         5.17351513e-03,  -8.92023736e-05,   1.12555703e-03,\n",
       "         1.70773720e-02,   1.24026009e-01,   2.87757196e-01,\n",
       "         4.05889919e-01,   3.95437899e-01,   3.03392690e-01,\n",
       "         2.64762547e-01,   3.07214703e-01,   3.69629678e-01,\n",
       "         3.54600105e-01,   2.82333898e-01,   2.68405873e-01,\n",
       "         3.46575109e-01,   4.30830520e-01,   3.83338780e-01,\n",
       "         1.73427796e-01,   3.31974313e-02,   5.45906694e-03,\n",
       "        -3.17549676e-04,   3.08036553e-03,   3.05131997e-02,\n",
       "         1.71410441e-01,   3.58024481e-01,   4.35368534e-01,\n",
       "         3.58589270e-01,   2.57616956e-01,   2.59572948e-01,\n",
       "         3.49470925e-01,   4.26118863e-01,   4.02068031e-01,\n",
       "         3.38716871e-01,   3.31328491e-01,   3.93260235e-01,\n",
       "         4.29508295e-01,   3.37735900e-01,   1.45414745e-01,\n",
       "         3.08234569e-02,   4.94357792e-03,  -5.41307955e-04,\n",
       "         5.72661610e-03,   4.20476623e-02,   1.93047611e-01,\n",
       "         3.74833755e-01,   4.30551391e-01,   3.47789339e-01,\n",
       "         2.74838129e-01,   3.00739604e-01,   3.96079854e-01,\n",
       "         4.49307054e-01,   4.11806913e-01,   3.59174833e-01,\n",
       "         3.55097354e-01,   3.90822158e-01,   3.71866306e-01,\n",
       "         2.54556506e-01,   1.02932221e-01,   2.43557035e-02,\n",
       "         3.63553415e-03,  -6.76982483e-04,   6.99330921e-03,\n",
       "         4.33008844e-02,   1.81671256e-01,   3.42184966e-01,\n",
       "         4.10306347e-01,   3.66823613e-01,   3.22121686e-01,\n",
       "         3.42736437e-01,   3.96361985e-01,   4.13670941e-01,\n",
       "         3.82978959e-01,   3.44742456e-01,   3.40657063e-01,\n",
       "         3.37165046e-01,   2.68916576e-01,   1.59471797e-01,\n",
       "         6.09588350e-02,   1.55632972e-02,   2.21970803e-03,\n",
       "        -5.23181590e-04,   5.04490505e-03,   3.13334157e-02,\n",
       "         1.40412855e-01,   2.76148209e-01,   3.58349383e-01,\n",
       "         3.58786953e-01,   3.28544972e-01,   3.19838981e-01,\n",
       "         3.16891669e-01,   3.08693948e-01,   2.99744508e-01,\n",
       "         2.88662591e-01,   2.75509739e-01,   2.37171562e-01,\n",
       "         1.61510609e-01,   8.53876655e-02,   3.17471264e-02,\n",
       "         7.60810787e-03,   8.05851659e-04,  -1.94959776e-04,\n",
       "         2.29945610e-03,   1.63187884e-02,   8.74384699e-02,\n",
       "         1.86855340e-01,   2.67715080e-01,   2.90851653e-01,\n",
       "         2.69776449e-01,   2.36743396e-01,   2.13037630e-01,\n",
       "         2.09956596e-01,   2.13852994e-01,   2.06961880e-01,\n",
       "         1.78425631e-01,   1.34431602e-01,   7.93020306e-02,\n",
       "         3.85869486e-02,   1.60954123e-02,   4.59335271e-03,\n",
       "         3.58100573e-04,  -2.56005630e-05,   5.34742638e-04,\n",
       "         5.63874264e-03,   4.18615120e-02,   1.02366875e-01,\n",
       "         1.58341221e-01,   1.78853287e-01,   1.59622006e-01,\n",
       "         1.32894554e-01,   1.25423444e-01,   1.29909229e-01,\n",
       "         1.28317098e-01,   1.13731503e-01,   8.73861732e-02,\n",
       "         5.66446442e-02,   2.81740131e-02,   1.35176689e-02,\n",
       "         6.75902530e-03,   2.36861651e-03,   3.32186647e-04,\n",
       "         2.36947672e-06,  -1.08736484e-04,   1.67492439e-03,\n",
       "         2.00838674e-02,   5.39897578e-02,   8.21042723e-02,\n",
       "         8.48048727e-02,   6.98336039e-02,   6.14454913e-02,\n",
       "         6.41477415e-02,   6.66535422e-02,   6.13847365e-02,\n",
       "         4.72415070e-02,   3.10228064e-02,   1.72094059e-02,\n",
       "         8.04236158e-03,   3.98613041e-03,   2.06533709e-03,\n",
       "         7.32790031e-04,   1.15131824e-04,  -5.70160659e-07,\n",
       "        -7.78622173e-05,   1.53075781e-04,   6.54041880e-03,\n",
       "         2.18038823e-02,   3.23301346e-02,   2.65074003e-02,\n",
       "         1.48304059e-02,   1.37361622e-02,   1.75836574e-02,\n",
       "         1.85854708e-02,   1.62000399e-02,   1.08289233e-02,\n",
       "         4.84489732e-03,   2.29118804e-03,   1.28344980e-03,\n",
       "         5.42407557e-04,   1.71928340e-04,   6.69395916e-05,\n",
       "        -8.36480534e-06,   2.58998250e-08,   7.19570903e-07,\n",
       "        -8.88039004e-05,   3.84441602e-04,   3.88061072e-03,\n",
       "         7.76968171e-03,   4.79163212e-03,   8.41729160e-04,\n",
       "        -6.29586793e-05,   1.21653983e-04,   4.60454024e-04,\n",
       "         2.04621606e-04,  -8.23283685e-05,  -2.92403171e-04,\n",
       "        -1.42817077e-04,   1.79311961e-04,   3.62293311e-05,\n",
       "        -3.59851695e-05,  -9.40775137e-06,  -7.89527488e-07,\n",
       "         0.00000000e+00,   2.28924134e-07,  -3.73330728e-06,\n",
       "        -7.68887838e-06,   2.81940445e-04,   4.38556611e-04,\n",
       "         8.57444419e-05,  -2.43745938e-05,   8.36968172e-05,\n",
       "        -4.82241820e-05,  -1.00729459e-04,  -2.97573143e-05,\n",
       "         3.68001452e-05,   1.11161883e-04,   3.57535585e-05,\n",
       "         6.08074034e-05,   6.10337191e-06,  -1.30941974e-06,\n",
       "         2.68605475e-08,   0.00000000e+00])"
      ]
     },
     "execution_count": 21,
     "metadata": {},
     "output_type": "execute_result"
    }
   ],
   "source": [
    "gradient(theta0,X,y_single,lam=0.0)"
   ]
  },
  {
   "cell_type": "code",
   "execution_count": 22,
   "metadata": {
    "collapsed": true
   },
   "outputs": [],
   "source": [
    "h = hypothesis(theta0, X)"
   ]
  },
  {
   "cell_type": "code",
   "execution_count": 23,
   "metadata": {},
   "outputs": [
    {
     "data": {
      "text/plain": [
       "array([ 0.94459903,  0.97078742,  0.97655477, ...,  0.86304725,\n",
       "        0.97486625,  0.96253626])"
      ]
     },
     "execution_count": 23,
     "metadata": {},
     "output_type": "execute_result"
    }
   ],
   "source": [
    "h"
   ]
  },
  {
   "cell_type": "markdown",
   "metadata": {},
   "source": [
    "### Optimization"
   ]
  },
  {
   "cell_type": "markdown",
   "metadata": {},
   "source": [
    "Minimize a function using a nonlinear conjugate gradient algorithm, implemented in `scipy.optimize.fmin_cg`\n",
    "\n",
    "Usage:\n",
    "~~~~\n",
    "scipy.optimize.fmin_cg(f, x0, fprime=None, args=(), gtol=1e-05, norm=inf, epsilon=1.4901161193847656e-08, maxiter=None, full_output=0, disp=1, retall=0, callback=None)\n",
    "~~~~"
   ]
  },
  {
   "cell_type": "markdown",
   "metadata": {},
   "source": [
    "Perform optimization with different choices for the regularization parameter $\\lambda$ in the range of $[0,1]$"
   ]
  },
  {
   "cell_type": "code",
   "execution_count": 24,
   "metadata": {
    "collapsed": true
   },
   "outputs": [],
   "source": [
    "lambdas = np.linspace(0.0, 3.0, 6)"
   ]
  },
  {
   "cell_type": "code",
   "execution_count": 25,
   "metadata": {},
   "outputs": [
    {
     "name": "stdout",
     "output_type": "stream",
     "text": [
      "Warning: Maximum number of iterations has been exceeded.\n",
      "         Current function value: 0.053438\n",
      "         Iterations: 50\n",
      "         Function evaluations: 143\n",
      "         Gradient evaluations: 143\n",
      "Warning: Maximum number of iterations has been exceeded.\n",
      "         Current function value: 0.065850\n",
      "         Iterations: 50\n",
      "         Function evaluations: 143\n",
      "         Gradient evaluations: 143\n",
      "Warning: Maximum number of iterations has been exceeded.\n",
      "         Current function value: 0.071697\n",
      "         Iterations: 50\n",
      "         Function evaluations: 138\n",
      "         Gradient evaluations: 138\n",
      "Warning: Maximum number of iterations has been exceeded.\n",
      "         Current function value: 0.076095\n",
      "         Iterations: 50\n",
      "         Function evaluations: 190\n",
      "         Gradient evaluations: 189\n",
      "Warning: Maximum number of iterations has been exceeded.\n",
      "         Current function value: 0.079678\n",
      "         Iterations: 50\n",
      "         Function evaluations: 190\n",
      "         Gradient evaluations: 190\n",
      "Warning: Desired error not necessarily achieved due to precision loss.\n",
      "         Current function value: 0.083244\n",
      "         Iterations: 27\n",
      "         Function evaluations: 163\n",
      "         Gradient evaluations: 151\n"
     ]
    }
   ],
   "source": [
    "theta_opts, theta_iters = {}, {}\n",
    "for lam in lambdas:\n",
    "    theta_opt, theta_iter = optimize.fmin_cg(f=cost_function, fprime=gradient, x0=theta0, args=(X, y_single, lam), maxiter=50, retall=True)\n",
    "    theta_opts[lam] = theta_opt\n",
    "    theta_iters[lam] = theta_iter"
   ]
  },
  {
   "cell_type": "markdown",
   "metadata": {},
   "source": [
    "### Evolution of cost function with the number of iterations"
   ]
  },
  {
   "cell_type": "code",
   "execution_count": 26,
   "metadata": {
    "collapsed": true
   },
   "outputs": [],
   "source": [
    "costs = {}\n",
    "for lam, theta_iter in theta_iters.items():\n",
    "    costs[lam] = [cost_function(theta, X, y_single, lam) for theta in theta_iter]"
   ]
  },
  {
   "cell_type": "code",
   "execution_count": 27,
   "metadata": {},
   "outputs": [
    {
     "data": {
      "text/plain": [
       "<matplotlib.legend.Legend at 0x7f5e2e363f98>"
      ]
     },
     "execution_count": 27,
     "metadata": {},
     "output_type": "execute_result"
    },
    {
     "data": {
      "image/png": "[encoded data removed]",
      "text/plain": [
       "<matplotlib.figure.Figure at 0x7f5e2e37f748>"
      ]
     },
     "metadata": {},
     "output_type": "display_data"
    }
   ],
   "source": [
    "f,a = plt.subplots()\n",
    "for lam, cost in costs.items():\n",
    "    a.plot(cost, label=\"$\\lambda = {}$\".format(lam))\n",
    "a.set_yscale('log')\n",
    "a.set_xlabel('Iteration number')\n",
    "a.set_ylabel('Cost function')\n",
    "plt.legend()"
   ]
  },
  {
   "cell_type": "markdown",
   "metadata": {},
   "source": [
    "The $l^{2}$ norm of the parameter vector $\\theta$:"
   ]
  },
  {
   "cell_type": "code",
   "execution_count": 28,
   "metadata": {
    "collapsed": true
   },
   "outputs": [],
   "source": [
    "theta_l2 = [np.mean(theta_opt**2) for lam, theta_opt in theta_opts.items()]"
   ]
  },
  {
   "cell_type": "code",
   "execution_count": 29,
   "metadata": {},
   "outputs": [
    {
     "data": {
      "text/plain": [
       "<matplotlib.text.Text at 0x7f5e2e3a9550>"
      ]
     },
     "execution_count": 29,
     "metadata": {},
     "output_type": "execute_result"
    },
    {
     "data": {
      "image/png": "[encoded data removed]",
      "text/plain": [
       "<matplotlib.figure.Figure at 0x7f5e2e2965c0>"
      ]
     },
     "metadata": {},
     "output_type": "display_data"
    }
   ],
   "source": [
    "f,a = plt.subplots()\n",
    "a.bar(lambdas, theta_l2, align='center', edgecolor='k', width=0.25)\n",
    "a.set_xlabel('$\\lambda$')\n",
    "a.set_ylabel(r'$l^{2}$ norm of $\\theta$')"
   ]
  },
  {
   "cell_type": "markdown",
   "metadata": {},
   "source": [
    "### Accuracy"
   ]
  },
  {
   "cell_type": "code",
   "execution_count": 30,
   "metadata": {},
   "outputs": [
    {
     "data": {
      "text/plain": [
       "array([0, 0, 0, ..., 0, 0, 0])"
      ]
     },
     "execution_count": 30,
     "metadata": {},
     "output_type": "execute_result"
    }
   ],
   "source": [
    "y_single"
   ]
  },
  {
   "cell_type": "markdown",
   "metadata": {},
   "source": [
    "Get the predicted $y$ values:"
   ]
  },
  {
   "cell_type": "code",
   "execution_count": 31,
   "metadata": {
    "collapsed": true
   },
   "outputs": [],
   "source": [
    "y_predicted = hypothesis(theta_opts[0],X)"
   ]
  },
  {
   "cell_type": "code",
   "execution_count": 32,
   "metadata": {},
   "outputs": [
    {
     "data": {
      "text/plain": [
       "array([  2.16449116e-04,   1.53286523e-05,   4.21071518e-04, ...,\n",
       "         1.51760286e-03,   1.36434054e-09,   5.12030687e-06])"
      ]
     },
     "execution_count": 32,
     "metadata": {},
     "output_type": "execute_result"
    }
   ],
   "source": [
    "y_predicted"
   ]
  },
  {
   "cell_type": "markdown",
   "metadata": {},
   "source": [
    "Accuracy on the training set (we'd also need the accuracy on the test set)"
   ]
  },
  {
   "cell_type": "code",
   "execution_count": 33,
   "metadata": {},
   "outputs": [
    {
     "data": {
      "text/plain": [
       "0.0"
      ]
     },
     "execution_count": 33,
     "metadata": {},
     "output_type": "execute_result"
    }
   ],
   "source": [
    "accuracy(y_single, y_predicted)"
   ]
  },
  {
   "cell_type": "markdown",
   "metadata": {},
   "source": [
    "## Multi class classification with the one-vs-all method"
   ]
  },
  {
   "cell_type": "markdown",
   "metadata": {},
   "source": [
    "**Notation**:\n",
    "\n",
    "- $[k]$ class index $[k]=1,...,K$"
   ]
  },
  {
   "cell_type": "markdown",
   "metadata": {},
   "source": [
    "The labels $y$ belong to one of the $K=10$ distinct classes (digits from 0 to 9) and the goal here is to train $K$ separate logistic regression units each specializing in a specific digit."
   ]
  },
  {
   "cell_type": "code",
   "execution_count": 34,
   "metadata": {
    "collapsed": true
   },
   "outputs": [],
   "source": [
    "K = 10"
   ]
  },
  {
   "cell_type": "markdown",
   "metadata": {},
   "source": []
  },
  {
   "cell_type": "code",
   "execution_count": 35,
   "metadata": {
    "collapsed": true
   },
   "outputs": [],
   "source": [
    "lambdas = [1.0]"
   ]
  },
  {
   "cell_type": "code",
   "execution_count": 36,
   "metadata": {
    "collapsed": true
   },
   "outputs": [],
   "source": [
    "theta_opts, theta_iters, cost_iters = {}, {}, {}"
   ]
  },
  {
   "cell_type": "code",
   "execution_count": 37,
   "metadata": {},
   "outputs": [
    {
     "name": "stdout",
     "output_type": "stream",
     "text": [
      "Warning: Desired error not necessarily achieved due to precision loss.\n",
      "         Current function value: 0.022525\n",
      "         Iterations: 34\n",
      "         Function evaluations: 200\n",
      "         Gradient evaluations: 189\n",
      "Warning: Maximum number of iterations has been exceeded.\n",
      "         Current function value: 0.027548\n",
      "         Iterations: 50\n",
      "         Function evaluations: 206\n",
      "         Gradient evaluations: 206\n",
      "Warning: Maximum number of iterations has been exceeded.\n",
      "         Current function value: 0.069630\n",
      "         Iterations: 50\n",
      "         Function evaluations: 154\n",
      "         Gradient evaluations: 154\n",
      "Warning: Maximum number of iterations has been exceeded.\n",
      "         Current function value: 0.074268\n",
      "         Iterations: 50\n",
      "         Function evaluations: 182\n",
      "         Gradient evaluations: 182\n",
      "Warning: Maximum number of iterations has been exceeded.\n",
      "         Current function value: 0.052595\n",
      "         Iterations: 50\n",
      "         Function evaluations: 136\n",
      "         Gradient evaluations: 136\n",
      "Warning: Maximum number of iterations has been exceeded.\n",
      "         Current function value: 0.077397\n",
      "         Iterations: 50\n",
      "         Function evaluations: 123\n",
      "         Gradient evaluations: 123\n",
      "Warning: Maximum number of iterations has been exceeded.\n",
      "         Current function value: 0.035874\n",
      "         Iterations: 50\n",
      "         Function evaluations: 165\n",
      "         Gradient evaluations: 165\n",
      "Warning: Maximum number of iterations has been exceeded.\n",
      "         Current function value: 0.047167\n",
      "         Iterations: 50\n",
      "         Function evaluations: 166\n",
      "         Gradient evaluations: 166\n",
      "Warning: Maximum number of iterations has been exceeded.\n",
      "         Current function value: 0.099763\n",
      "         Iterations: 50\n",
      "         Function evaluations: 157\n",
      "         Gradient evaluations: 157\n",
      "Warning: Maximum number of iterations has been exceeded.\n",
      "         Current function value: 0.092121\n",
      "         Iterations: 50\n",
      "         Function evaluations: 138\n",
      "         Gradient evaluations: 138\n"
     ]
    }
   ],
   "source": [
    "for lam in lambdas:\n",
    "    \n",
    "    n = len(X[0])\n",
    "    theta_opts[lam] = np.zeros((n,K))\n",
    "    theta_iters[lam] = {}\n",
    "    cost_iters[lam] = {}\n",
    "    \n",
    "    for k in range(K):\n",
    "        digit = k\n",
    "        y_target = (y == digit).astype(int)\n",
    "        \n",
    "        theta0 = np.random.uniform(high=0.1, size=401)\n",
    "        theta_opt, theta_iter = optimize.fmin_cg(f=cost_function, fprime=gradient, x0=theta0, args=(X, y_target, lam), maxiter=50, retall=True)\n",
    "\n",
    "        theta_opts[lam][:,k] = theta_opt\n",
    "        theta_iters[lam][k] = theta_iter\n",
    "        cost_iters[lam][k] = [cost_function(theta, X, y_target, lam) for theta in theta_iter]"
   ]
  },
  {
   "cell_type": "markdown",
   "metadata": {},
   "source": [
    "#### Convergence"
   ]
  },
  {
   "cell_type": "code",
   "execution_count": 38,
   "metadata": {
    "collapsed": true
   },
   "outputs": [],
   "source": [
    "lam = 1.0"
   ]
  },
  {
   "cell_type": "code",
   "execution_count": 39,
   "metadata": {},
   "outputs": [
    {
     "data": {
      "text/plain": [
       "<matplotlib.legend.Legend at 0x7f5e2e4767f0>"
      ]
     },
     "execution_count": 39,
     "metadata": {},
     "output_type": "execute_result"
    },
    {
     "data": {
      "image/png": "[encoded data removed]",
      "text/plain": [
       "<matplotlib.figure.Figure at 0x7f5e2e50dc18>"
      ]
     },
     "metadata": {},
     "output_type": "display_data"
    }
   ],
   "source": [
    "f,a = plt.subplots()\n",
    "for k, cost_iter in cost_iters[lam].items():\n",
    "    a.plot(cost_iter, label=\"Class {}\".format(k))\n",
    "a.set_yscale('log')\n",
    "a.set_xlabel('Iteration number')\n",
    "a.set_ylabel('Cost function')\n",
    "plt.legend()"
   ]
  },
  {
   "cell_type": "markdown",
   "metadata": {},
   "source": [
    "#### Result: prediction for the training set"
   ]
  },
  {
   "cell_type": "code",
   "execution_count": 40,
   "metadata": {
    "collapsed": true
   },
   "outputs": [],
   "source": [
    "def one_vs_all(theta_opts, X, y):\n",
    "    h = hypothesis(theta_opts, X)\n",
    "    kmax = np.argmax(h, axis=1)\n",
    "    y_pred = kmax\n",
    "    \n",
    "    return y_pred"
   ]
  },
  {
   "cell_type": "code",
   "execution_count": 41,
   "metadata": {
    "collapsed": true
   },
   "outputs": [],
   "source": [
    "lam = 1.0"
   ]
  },
  {
   "cell_type": "code",
   "execution_count": 42,
   "metadata": {
    "collapsed": true
   },
   "outputs": [],
   "source": [
    "y_pred = one_vs_all(theta_opts[lam], X, y)"
   ]
  },
  {
   "cell_type": "markdown",
   "metadata": {},
   "source": [
    "#### Accuracy of prediction"
   ]
  },
  {
   "cell_type": "code",
   "execution_count": 43,
   "metadata": {},
   "outputs": [
    {
     "data": {
      "text/plain": [
       "0.94199999999999995"
      ]
     },
     "execution_count": 43,
     "metadata": {},
     "output_type": "execute_result"
    }
   ],
   "source": [
    "accuracy(labels, y_pred)"
   ]
  },
  {
   "cell_type": "markdown",
   "metadata": {},
   "source": [
    "### Other statistics"
   ]
  },
  {
   "cell_type": "markdown",
   "metadata": {},
   "source": [
    "#### Confusion matrix"
   ]
  },
  {
   "cell_type": "code",
   "execution_count": 44,
   "metadata": {
    "collapsed": true
   },
   "outputs": [],
   "source": [
    "def plot_confusion_matrix(matrix, cmap='viridis', vmax=0.05, label_format=\"{:.3f}\"):\n",
    "    nx, ny = matrix.shape\n",
    "    f,a = plt.subplots(figsize=(9,9), subplot_kw={'aspect':'equal'})\n",
    "    a.set_ylabel('Truth')\n",
    "    a.set_xlabel('Predicted')\n",
    "    im = a.imshow(matrix, cmap=cmap, vmax=vmax)\n",
    "\n",
    "    for x in range(nx):\n",
    "        for y in range(ny):\n",
    "            label = label_format.format(matrix[x][y])\n",
    "            a.annotate(label, xy=(y, x), \n",
    "                        horizontalalignment='center',\n",
    "                        verticalalignment='center')\n",
    "    cb = f.colorbar(im)\n",
    "    a.set_xticks(range(K));\n",
    "    a.set_yticks(range(K));"
   ]
  },
  {
   "cell_type": "code",
   "execution_count": 45,
   "metadata": {
    "collapsed": true
   },
   "outputs": [],
   "source": [
    "def construct_confusion_matrix(truths, preds):\n",
    "    \n",
    "    K = len(np.unique(truths))\n",
    "    confusion = np.zeros((K,K))\n",
    "    for truth, pred in zip(truths, preds):\n",
    "        confusion[truth][pred] += 1\n",
    "    return confusion"
   ]
  },
  {
   "cell_type": "code",
   "execution_count": 46,
   "metadata": {
    "collapsed": true
   },
   "outputs": [],
   "source": [
    "def normalize_confusion_matrix(confusion):\n",
    "    normalized = (confusion.T / np.sum(confusion, axis=1)).T\n",
    "    return normalized"
   ]
  },
  {
   "cell_type": "code",
   "execution_count": 47,
   "metadata": {
    "collapsed": true
   },
   "outputs": [],
   "source": [
    "confusion = construct_confusion_matrix(labels,y_pred)"
   ]
  },
  {
   "cell_type": "code",
   "execution_count": 48,
   "metadata": {},
   "outputs": [
    {
     "data": {
      "image/png": "[encoded data removed]",
      "text/plain": [
       "<matplotlib.figure.Figure at 0x7f5e29b3aac8>"
      ]
     },
     "metadata": {},
     "output_type": "display_data"
    }
   ],
   "source": [
    "plot_confusion_matrix(confusion, vmax=50, label_format=\"{:.0f}\")"
   ]
  },
  {
   "cell_type": "markdown",
   "metadata": {},
   "source": [
    "**Normalized version**"
   ]
  },
  {
   "cell_type": "code",
   "execution_count": 49,
   "metadata": {
    "collapsed": true
   },
   "outputs": [],
   "source": [
    "confusion_normalized = normalize_confusion_matrix(confusion)"
   ]
  },
  {
   "cell_type": "code",
   "execution_count": 50,
   "metadata": {},
   "outputs": [
    {
     "data": {
      "image/png": "[encoded data removed]",
      "text/plain": [
       "<matplotlib.figure.Figure at 0x7f5e2e2a5c50>"
      ]
     },
     "metadata": {},
     "output_type": "display_data"
    }
   ],
   "source": [
    "plot_confusion_matrix(confusion_normalized)"
   ]
  },
  {
   "cell_type": "markdown",
   "metadata": {},
   "source": [
    "#### Most frequent missclassified digits"
   ]
  },
  {
   "cell_type": "code",
   "execution_count": 51,
   "metadata": {
    "collapsed": true
   },
   "outputs": [],
   "source": [
    "most_frequent_digits = np.argsort(-confusion_normalized, axis=1)"
   ]
  },
  {
   "cell_type": "code",
   "execution_count": 52,
   "metadata": {},
   "outputs": [
    {
     "data": {
      "image/png": "[encoded data removed]",
      "text/plain": [
       "<matplotlib.figure.Figure at 0x7f5e29954b00>"
      ]
     },
     "metadata": {},
     "output_type": "display_data"
    }
   ],
   "source": [
    "f,a = plt.subplots()\n",
    "for i,row in enumerate(most_frequent_digits):\n",
    "    second_most_frequent_digit = row[1]\n",
    "    a.bar(i, confusion_normalized[i][second_most_frequent_digit]*100.0)\n",
    "    a.annotate(second_most_frequent_digit, xy=(i,2), horizontalalignment='center')\n",
    "a.set_xticks(range(10));\n",
    "a.set_xlabel('Truth')\n",
    "a.set_ylabel('Missclassification rate [%]');"
   ]
  },
  {
   "cell_type": "markdown",
   "metadata": {},
   "source": [
    "## Multi class classification with the one-vs-all method in `scikit-learn`"
   ]
  },
  {
   "cell_type": "markdown",
   "metadata": {},
   "source": [
    "http://scikit-learn.org/stable/modules/generated/sklearn.linear_model.LogisticRegression.html"
   ]
  },
  {
   "cell_type": "markdown",
   "metadata": {},
   "source": [
    "~~~~\n",
    " class sklearn.linear_model.LogisticRegression(penalty=’l2’, dual=False, tol=0.0001, C=1.0, fit_intercept=True, intercept_scaling=1, class_weight=None, random_state=None, solver=’liblinear’, max_iter=100, multi_class=’ovr’, verbose=0, warm_start=False, n_jobs=1)[source]\n",
    "~~~~"
   ]
  },
  {
   "cell_type": "code",
   "execution_count": 53,
   "metadata": {
    "collapsed": true
   },
   "outputs": [],
   "source": [
    "from sklearn.linear_model import LogisticRegression"
   ]
  },
  {
   "cell_type": "markdown",
   "metadata": {},
   "source": [
    "**Notes about `LogisticRegression`:**\n",
    "- the class automatically infers the number of categories to be classified from the labels, so there is no need to specify the number of classes explicitly\n",
    "- the bias terms are handled internally, therefore it is possible to directly feed the features to it, without prepending the design matrix with the bias column as done above"
   ]
  },
  {
   "cell_type": "code",
   "execution_count": 54,
   "metadata": {
    "collapsed": true
   },
   "outputs": [],
   "source": [
    "clf = LogisticRegression(C=10, penalty='l2', solver='liblinear')"
   ]
  },
  {
   "cell_type": "code",
   "execution_count": 55,
   "metadata": {},
   "outputs": [
    {
     "name": "stderr",
     "output_type": "stream",
     "text": [
      "/home/edy/lib/build/anaconda3/lib/python3.6/site-packages/sklearn/utils/validation.py:526: DataConversionWarning: A column-vector y was passed when a 1d array was expected. Please change the shape of y to (n_samples, ), for example using ravel().\n",
      "  y = column_or_1d(y, warn=True)\n"
     ]
    },
    {
     "data": {
      "text/plain": [
       "LogisticRegression(C=10, class_weight=None, dual=False, fit_intercept=True,\n",
       "          intercept_scaling=1, max_iter=100, multi_class='ovr', n_jobs=1,\n",
       "          penalty='l2', random_state=None, solver='liblinear', tol=0.0001,\n",
       "          verbose=0, warm_start=False)"
      ]
     },
     "execution_count": 55,
     "metadata": {},
     "output_type": "execute_result"
    }
   ],
   "source": [
    "clf.fit(data['X'],data['y'])"
   ]
  },
  {
   "cell_type": "code",
   "execution_count": 56,
   "metadata": {
    "collapsed": true
   },
   "outputs": [],
   "source": [
    "y_pred = clf.predict(data['X'])"
   ]
  },
  {
   "cell_type": "code",
   "execution_count": 57,
   "metadata": {},
   "outputs": [
    {
     "data": {
      "text/plain": [
       "array([0, 0, 0, ..., 9, 9, 7], dtype=uint8)"
      ]
     },
     "execution_count": 57,
     "metadata": {},
     "output_type": "execute_result"
    }
   ],
   "source": [
    "y_pred"
   ]
  },
  {
   "cell_type": "code",
   "execution_count": 58,
   "metadata": {},
   "outputs": [
    {
     "data": {
      "text/plain": [
       "0.96499999999999997"
      ]
     },
     "execution_count": 58,
     "metadata": {},
     "output_type": "execute_result"
    }
   ],
   "source": [
    "accuracy(labels,y_pred)"
   ]
  },
  {
   "cell_type": "code",
   "execution_count": 59,
   "metadata": {
    "collapsed": true
   },
   "outputs": [],
   "source": [
    "confusion_sklearn = construct_confusion_matrix(labels, y_pred)"
   ]
  },
  {
   "cell_type": "code",
   "execution_count": 60,
   "metadata": {
    "collapsed": true
   },
   "outputs": [],
   "source": [
    "confusion_sklearn_normalized = normalize_confusion_matrix(confusion_sklearn)"
   ]
  },
  {
   "cell_type": "code",
   "execution_count": 61,
   "metadata": {},
   "outputs": [
    {
     "data": {
      "image/png": "[encoded data removed]",
      "text/plain": [
       "<matplotlib.figure.Figure at 0x7f5e280b0438>"
      ]
     },
     "metadata": {},
     "output_type": "display_data"
    }
   ],
   "source": [
    "plot_confusion_matrix(confusion_sklearn_normalized)"
   ]
  },
  {
   "cell_type": "markdown",
   "metadata": {},
   "source": [
    "----\n",
    "\n",
    "----\n",
    "\n",
    "----"
   ]
  },
  {
   "cell_type": "markdown",
   "metadata": {},
   "source": [
    "## Test area"
   ]
  },
  {
   "cell_type": "code",
   "execution_count": null,
   "metadata": {
    "collapsed": true
   },
   "outputs": [],
   "source": []
  }
 ],
 "metadata": {
  "kernelspec": {
   "display_name": "Python 3",
   "language": "python",
   "name": "python3"
  },
  "language_info": {
   "codemirror_mode": {
    "name": "ipython",
    "version": 3
   },
   "file_extension": ".py",
   "mimetype": "text/x-python",
   "name": "python",
   "nbconvert_exporter": "python",
   "pygments_lexer": "ipython3",
   "version": "3.6.2"
  }
 },
 "nbformat": 4,
 "nbformat_minor": 2
}
